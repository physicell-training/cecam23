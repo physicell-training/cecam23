{
 "cells": [
  {
   "cell_type": "markdown",
   "id": "284a9b60",
   "metadata": {},
   "source": [
    "# Jupyter Notebook for plotting PNG files "
   ]
  },
  {
   "cell_type": "code",
   "execution_count": 1,
   "id": "8a7f102e",
   "metadata": {},
   "outputs": [],
   "source": [
    "from pyMCDS import pyMCDS"
   ]
  },
  {
   "cell_type": "code",
   "execution_count": 2,
   "id": "425443fe",
   "metadata": {},
   "outputs": [],
   "source": [
    "import numpy as np\n",
    "import matplotlib.pyplot as plt"
   ]
  },
  {
   "cell_type": "markdown",
   "id": "92a50b31",
   "metadata": {},
   "source": [
    "## Let's pull out and plot the data from our simulation"
   ]
  },
  {
   "cell_type": "code",
   "execution_count": 5,
   "id": "a5ed8c71",
   "metadata": {},
   "outputs": [
    {
     "name": "stdout",
     "output_type": "stream",
     "text": [
      "Reading output/output00000000.xml\n"
     ]
    },
    {
     "ename": "AttributeError",
     "evalue": "module 'numpy' has no attribute 'float'",
     "output_type": "error",
     "traceback": [
      "\u001b[0;31m---------------------------------------------------------------------------\u001b[0m",
      "\u001b[0;31mAttributeError\u001b[0m                            Traceback (most recent call last)",
      "\u001b[0;32m<ipython-input-5-7c9f74c51d00>\u001b[0m in \u001b[0;36m<module>\u001b[0;34m\u001b[0m\n\u001b[1;32m      1\u001b[0m \u001b[0;31m#Labelling a specific data file\u001b[0m\u001b[0;34m\u001b[0m\u001b[0;34m\u001b[0m\u001b[0;34m\u001b[0m\u001b[0m\n\u001b[0;32m----> 2\u001b[0;31m \u001b[0mmcds\u001b[0m \u001b[0;34m=\u001b[0m \u001b[0mpyMCDS\u001b[0m\u001b[0;34m(\u001b[0m\u001b[0;34m'output00000000.xml'\u001b[0m\u001b[0;34m,\u001b[0m \u001b[0;34m'output'\u001b[0m\u001b[0;34m)\u001b[0m\u001b[0;34m\u001b[0m\u001b[0;34m\u001b[0m\u001b[0m\n\u001b[0m",
      "\u001b[0;32m~/Desktop/cecam23/code/PhysiCell/pyMCDS.py\u001b[0m in \u001b[0;36m__init__\u001b[0;34m(self, xml_file, output_path)\u001b[0m\n\u001b[1;32m     29\u001b[0m     \"\"\"\n\u001b[1;32m     30\u001b[0m     \u001b[0;32mdef\u001b[0m \u001b[0m__init__\u001b[0m\u001b[0;34m(\u001b[0m\u001b[0mself\u001b[0m\u001b[0;34m,\u001b[0m \u001b[0mxml_file\u001b[0m\u001b[0;34m,\u001b[0m \u001b[0moutput_path\u001b[0m\u001b[0;34m=\u001b[0m\u001b[0;34m'.'\u001b[0m\u001b[0;34m)\u001b[0m\u001b[0;34m:\u001b[0m\u001b[0;34m\u001b[0m\u001b[0;34m\u001b[0m\u001b[0m\n\u001b[0;32m---> 31\u001b[0;31m         \u001b[0mself\u001b[0m\u001b[0;34m.\u001b[0m\u001b[0mdata\u001b[0m \u001b[0;34m=\u001b[0m \u001b[0mself\u001b[0m\u001b[0;34m.\u001b[0m\u001b[0m_read_xml\u001b[0m\u001b[0;34m(\u001b[0m\u001b[0mxml_file\u001b[0m\u001b[0;34m,\u001b[0m \u001b[0moutput_path\u001b[0m\u001b[0;34m)\u001b[0m\u001b[0;34m\u001b[0m\u001b[0;34m\u001b[0m\u001b[0m\n\u001b[0m\u001b[1;32m     32\u001b[0m \u001b[0;34m\u001b[0m\u001b[0m\n\u001b[1;32m     33\u001b[0m     \u001b[0;31m## METADATA RELATED FUNCTIONS\u001b[0m\u001b[0;34m\u001b[0m\u001b[0;34m\u001b[0m\u001b[0;34m\u001b[0m\u001b[0m\n",
      "\u001b[0;32m~/Desktop/cecam23/code/PhysiCell/pyMCDS.py\u001b[0m in \u001b[0;36m_read_xml\u001b[0;34m(self, xml_file, output_path)\u001b[0m\n\u001b[1;32m    355\u001b[0m         \u001b[0mcoord_str\u001b[0m \u001b[0;34m=\u001b[0m \u001b[0mmesh_node\u001b[0m\u001b[0;34m.\u001b[0m\u001b[0mfind\u001b[0m\u001b[0;34m(\u001b[0m\u001b[0;34m'x_coordinates'\u001b[0m\u001b[0;34m)\u001b[0m\u001b[0;34m.\u001b[0m\u001b[0mtext\u001b[0m\u001b[0;34m\u001b[0m\u001b[0;34m\u001b[0m\u001b[0m\n\u001b[1;32m    356\u001b[0m         \u001b[0mdelimiter\u001b[0m \u001b[0;34m=\u001b[0m \u001b[0mmesh_node\u001b[0m\u001b[0;34m.\u001b[0m\u001b[0mfind\u001b[0m\u001b[0;34m(\u001b[0m\u001b[0;34m'x_coordinates'\u001b[0m\u001b[0;34m)\u001b[0m\u001b[0;34m.\u001b[0m\u001b[0mget\u001b[0m\u001b[0;34m(\u001b[0m\u001b[0;34m'delimiter'\u001b[0m\u001b[0;34m)\u001b[0m\u001b[0;34m\u001b[0m\u001b[0;34m\u001b[0m\u001b[0m\n\u001b[0;32m--> 357\u001b[0;31m         \u001b[0mx_coords\u001b[0m \u001b[0;34m=\u001b[0m \u001b[0mnp\u001b[0m\u001b[0;34m.\u001b[0m\u001b[0marray\u001b[0m\u001b[0;34m(\u001b[0m\u001b[0mcoord_str\u001b[0m\u001b[0;34m.\u001b[0m\u001b[0msplit\u001b[0m\u001b[0;34m(\u001b[0m\u001b[0mdelimiter\u001b[0m\u001b[0;34m)\u001b[0m\u001b[0;34m,\u001b[0m \u001b[0mdtype\u001b[0m\u001b[0;34m=\u001b[0m\u001b[0mnp\u001b[0m\u001b[0;34m.\u001b[0m\u001b[0mfloat\u001b[0m\u001b[0;34m)\u001b[0m\u001b[0;34m\u001b[0m\u001b[0;34m\u001b[0m\u001b[0m\n\u001b[0m\u001b[1;32m    358\u001b[0m \u001b[0;34m\u001b[0m\u001b[0m\n\u001b[1;32m    359\u001b[0m         \u001b[0mcoord_str\u001b[0m \u001b[0;34m=\u001b[0m \u001b[0mmesh_node\u001b[0m\u001b[0;34m.\u001b[0m\u001b[0mfind\u001b[0m\u001b[0;34m(\u001b[0m\u001b[0;34m'y_coordinates'\u001b[0m\u001b[0;34m)\u001b[0m\u001b[0;34m.\u001b[0m\u001b[0mtext\u001b[0m\u001b[0;34m\u001b[0m\u001b[0;34m\u001b[0m\u001b[0m\n",
      "\u001b[0;32m~/anaconda3/lib/python3.8/site-packages/numpy/__init__.py\u001b[0m in \u001b[0;36m__getattr__\u001b[0;34m(attr)\u001b[0m\n\u001b[1;32m    282\u001b[0m             \u001b[0;32mreturn\u001b[0m \u001b[0mTester\u001b[0m\u001b[0;34m\u001b[0m\u001b[0;34m\u001b[0m\u001b[0m\n\u001b[1;32m    283\u001b[0m \u001b[0;34m\u001b[0m\u001b[0m\n\u001b[0;32m--> 284\u001b[0;31m         raise AttributeError(\"module {!r} has no attribute \"\n\u001b[0m\u001b[1;32m    285\u001b[0m                              \"{!r}\".format(__name__, attr))\n\u001b[1;32m    286\u001b[0m \u001b[0;34m\u001b[0m\u001b[0m\n",
      "\u001b[0;31mAttributeError\u001b[0m: module 'numpy' has no attribute 'float'"
     ]
    }
   ],
   "source": [
    "#Labelling a specific data file\n",
    "mcds = pyMCDS('output00000000.xml', 'output')"
   ]
  },
  {
   "cell_type": "code",
   "execution_count": null,
   "id": "e4fba406",
   "metadata": {},
   "outputs": [],
   "source": [
    "#Tells us the saved time of the simulation\n",
    "print(mcds.get_time())"
   ]
  },
  {
   "cell_type": "code",
   "execution_count": null,
   "id": "c6142aed",
   "metadata": {},
   "outputs": [],
   "source": [
    "#Prints all saved variables associated to the simulation\n",
    "print(mcds.get_cell_variables())"
   ]
  },
  {
   "cell_type": "code",
   "execution_count": null,
   "id": "218b5c53",
   "metadata": {},
   "outputs": [],
   "source": [
    "#Prints the names of the diffusing substrates\n",
    "print(mcds.get_substrate_names())"
   ]
  },
  {
   "cell_type": "code",
   "execution_count": null,
   "id": "3257f8d1",
   "metadata": {},
   "outputs": [],
   "source": [
    "#Plotting the substrate via their assigned name\n",
    "plt.clf() \n",
    "mcds.get_substrate_names();\n",
    "ecm = mcds.get_concentrations( 'ECM' );\n",
    "X,Y = mcds.get_2D_mesh();\n",
    "plt.clf() \n",
    "plt.contourf(X,Y,ecm[:,:,0]); \n",
    "plt.colorbar() \n",
    "plt.axis('image')\n",
    "plt.show()"
   ]
  },
  {
   "cell_type": "code",
   "execution_count": null,
   "id": "82389856",
   "metadata": {},
   "outputs": [],
   "source": [
    "#Plot cells position \n",
    "cx = mcds.data['discrete_cells']['position_x'] \n",
    "cy = mcds.data['discrete_cells']['position_y'] \n",
    "\n",
    "plt.scatter(cx,cy, s=20)\n",
    "plt.axis( 'image' )\n",
    "plt.title( 'Randomly positioned cells' , size=10)\n",
    "plt.show()"
   ]
  },
  {
   "cell_type": "code",
   "execution_count": null,
   "id": "74e79055",
   "metadata": {},
   "outputs": [],
   "source": [
    "st = mcds.data['discrete_cells']['total_volume'] \n",
    "st"
   ]
  },
  {
   "cell_type": "code",
   "execution_count": null,
   "id": "f0648921",
   "metadata": {},
   "outputs": [],
   "source": []
  },
  {
   "cell_type": "code",
   "execution_count": null,
   "id": "b945054b",
   "metadata": {},
   "outputs": [],
   "source": []
  }
 ],
 "metadata": {
  "kernelspec": {
   "display_name": "Python 3",
   "language": "python",
   "name": "python3"
  },
  "language_info": {
   "codemirror_mode": {
    "name": "ipython",
    "version": 3
   },
   "file_extension": ".py",
   "mimetype": "text/x-python",
   "name": "python",
   "nbconvert_exporter": "python",
   "pygments_lexer": "ipython3",
   "version": "3.8.8"
  }
 },
 "nbformat": 4,
 "nbformat_minor": 5
}
